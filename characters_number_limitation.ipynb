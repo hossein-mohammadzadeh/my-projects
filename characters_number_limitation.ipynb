{
  "nbformat": 4,
  "nbformat_minor": 0,
  "metadata": {
    "colab": {
      "provenance": []
    },
    "kernelspec": {
      "name": "python3",
      "display_name": "Python 3"
    },
    "language_info": {
      "name": "python"
    }
  },
  "cells": [
    {
      "cell_type": "code",
      "execution_count": 181,
      "metadata": {
        "id": "MZqD5QE15Lq1",
        "outputId": "12455c7a-52ea-4ba8-cccd-0fcb4f30eb71",
        "colab": {
          "base_uri": "https://localhost:8080/"
        }
      },
      "outputs": [
        {
          "output_type": "stream",
          "name": "stdout",
          "text": [
            "This is an example to check the constraints of the numbers of a name's characters\n",
            "Enter upper characters limitation: 10\n",
            "Enter lower characters limitation:3\n",
            "\n",
            " Enter the name: hh\n",
            "The numbers of the name's characters is 2 .\n",
            "Name must be at least 3 characters!!\n"
          ]
        }
      ],
      "source": [
        "print(\"This is an example to check the constraints of the numbers of a name's characters\")\n",
        "\n",
        "upper_characters_limitation= int(input(\"Enter upper characters limitation: \"))\n",
        "lower_characters_limitation= int(input(\"Enter lower characters limitation:\"))\n",
        "\n",
        "name= input(\"\\n Enter the name: \")\n",
        "number_of_characters= len(name)\n",
        "message= f\"The numbers of the name's characters is {number_of_characters} .\"\n",
        "print(message)\n",
        "\n",
        "\n",
        "if number_of_characters < lower_characters_limitation:\n",
        "  lower_error_message= f\"Name must be at least {lower_characters_limitation} characters!!\"\n",
        "  print(lower_error_message)\n",
        "\n",
        "elif number_of_characters > upper_characters_limitation:\n",
        "  upper_error_message= f\"Name must be a maximum of {upper_characters_limitation} characters !!\"\n",
        "  print(upper_error_message)\n",
        "\n",
        "else:\n",
        "  print(\"Name looks good!\")\n"
      ]
    }
  ]
}