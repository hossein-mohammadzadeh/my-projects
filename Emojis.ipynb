{
  "nbformat": 4,
  "nbformat_minor": 0,
  "metadata": {
    "colab": {
      "provenance": []
    },
    "kernelspec": {
      "name": "python3",
      "display_name": "Python 3"
    },
    "language_info": {
      "name": "python"
    }
  },
  "cells": [
    {
      "cell_type": "code",
      "execution_count": 29,
      "metadata": {
        "colab": {
          "base_uri": "https://localhost:8080/"
        },
        "id": "34RZ4-N2-Q6Q",
        "outputId": "b6a68c9c-eaba-4a21-e146-f98c8da2ffda"
      },
      "outputs": [
        {
          "output_type": "stream",
          "name": "stdout",
          "text": [
            "your message: hello :( :( me :)\n",
            " hello 😥 😥 me 😀 \n"
          ]
        }
      ],
      "source": [
        "# These code are to convert strings to emojis\n",
        "# Use shortcut keys windows+; to generate emojis keywords\n",
        "\n",
        "def message_converter(message):\n",
        "  words=message.split()\n",
        "  emojis={\n",
        "      ':)':'😀',\n",
        "      ':(':'😥'\n",
        "  }\n",
        "  output=\" \"\n",
        "  for word in words:\n",
        "    output+=emojis.get(word,word)+ \" \"\n",
        "  return output\n",
        "\n",
        "\n",
        "converted_message=message_converter(input('your message: '))\n",
        "print(converted_message)\n"
      ]
    }
  ]
}