{
  "nbformat": 4,
  "nbformat_minor": 0,
  "metadata": {
    "colab": {
      "provenance": []
    },
    "kernelspec": {
      "name": "python3",
      "display_name": "Python 3"
    },
    "language_info": {
      "name": "python"
    }
  },
  "cells": [
    {
      "cell_type": "code",
      "execution_count": 31,
      "metadata": {
        "colab": {
          "base_uri": "https://localhost:8080/"
        },
        "id": "A1sv-3RdujSg",
        "outputId": "edfdcd9e-795a-4097-f033-f42caa37a75f"
      },
      "outputs": [
        {
          "output_type": "stream",
          "name": "stdout",
          "text": [
            "> I am depress\n",
            " I am 😣 \n"
          ]
        }
      ],
      "source": [
        "# These code are to convert strings to emojis\n",
        "# Use shortcut keys windows+; to generate emojis keywords\n",
        "\n",
        "message=input(\"Enter you message:> \")\n",
        "words=message.split()\n",
        "emojis={\n",
        "    ':)':'🙂',\n",
        "    ':(':'😥',\n",
        "    'depress':'😣'\n",
        "}\n",
        "output=' '\n",
        "for word in words:\n",
        "  output+=emojis.get(word,word)+' '\n",
        "print(output)"
      ]
    }
  ]
}