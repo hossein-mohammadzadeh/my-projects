{
  "cells": [
    {
      "cell_type": "code",
      "execution_count": 13,
      "metadata": {
        "colab": {
          "base_uri": "https://localhost:8080/"
        },
        "id": "MZqD5QE15Lq1",
        "outputId": "5a7a3002-fdc4-47bf-92d9-a52461728f65"
      },
      "outputs": [
        {
          "output_type": "stream",
          "name": "stdout",
          "text": [
            "Enter upper characters limitation: 10\n",
            "Enter lower characters limitation:5\n",
            "\n",
            " Enter the name: ddd\n",
            "The numbers of the name's characters is 3 .\n",
            "Name must be at least 5 characters!!\n",
            "If you want to rerun, enter True, otherwise, enter False: False\n",
            "You've quitted the program!!\n"
          ]
        }
      ],
      "source": [
        "print(\"This is an example to check the constraints of the numbers of a name's characters\")\n",
        "from IPython.display import clear_output\n",
        "\n",
        "\n",
        "rerun_program= True\n",
        "\n",
        "while rerun_program:\n",
        "  clear_output()\n",
        "\n",
        "  upper_characters_limitation= int(input(\"Enter upper characters limitation: \"))\n",
        "  lower_characters_limitation= int(input(\"Enter lower characters limitation:\"))\n",
        "\n",
        "  name= input(\"\\n Enter the name: \")\n",
        "  number_of_characters= len(name)\n",
        "  message= f\"The numbers of the name's characters is {number_of_characters} .\"\n",
        "  print(message)\n",
        "\n",
        "\n",
        "  if number_of_characters < lower_characters_limitation:\n",
        "    lower_error_message= f\"Name must be at least {lower_characters_limitation} characters!!\"\n",
        "    print(lower_error_message)\n",
        "\n",
        "  elif number_of_characters > upper_characters_limitation:\n",
        "    upper_error_message= f\"Name must be a maximum of {upper_characters_limitation} characters !!\"\n",
        "    print(upper_error_message)\n",
        "\n",
        "  else:\n",
        "    print(\"Name looks good!\")\n",
        "\n",
        "  rerun_program= input('If you want to rerun, enter True, otherwise, enter False: ')\n",
        "  if rerun_program==\"False\":\n",
        "    print(\"You've quitted the program!!\")\n",
        "    break\n"
      ]
    }
  ],
  "metadata": {
    "colab": {
      "provenance": []
    },
    "kernelspec": {
      "display_name": "Python 3",
      "name": "python3"
    },
    "language_info": {
      "name": "python"
    }
  },
  "nbformat": 4,
  "nbformat_minor": 0
}