{
  "nbformat": 4,
  "nbformat_minor": 0,
  "metadata": {
    "colab": {
      "provenance": []
    },
    "kernelspec": {
      "name": "python3",
      "display_name": "Python 3"
    },
    "language_info": {
      "name": "python"
    }
  },
  "cells": [
    {
      "cell_type": "code",
      "execution_count": 71,
      "metadata": {
        "colab": {
          "base_uri": "https://localhost:8080/"
        },
        "id": "XDOaB3Wd_JbF",
        "outputId": "4a1994bc-3abb-4ba7-b3f6-41ff7bc78d04"
      },
      "outputs": [
        {
          "output_type": "stream",
          "name": "stdout",
          "text": [
            "Enter the count of your list: 6\n",
            "Enter the your numbers: 1\n",
            "Enter the your numbers: 1\n",
            "Enter the your numbers: 2\n",
            "Enter the your numbers: 3\n",
            "Enter the your numbers: 3\n",
            "Enter the your numbers: 5\n",
            "The input list of numbers is ['1', '1', '2', '3', '3', '5']\n",
            " The new list is : ['1', '2', '3', '5']\n",
            " The number of doublicated numbers is 2.\n"
          ]
        }
      ],
      "source": [
        "# This is to eliminate the doublicate numbers from your list of numbers.\n",
        "\n",
        "\n",
        "List_count= int(input(\"Enter the count of your list: \"))\n",
        "numbers= []\n",
        "for list_items in range(List_count):\n",
        "  numbers.append(input(\"Enter the your numbers: \"))\n",
        "\n",
        "input_message= f\"The input list of numbers is {numbers}\"\n",
        "print(input_message)\n",
        "\n",
        "\n",
        "unique_numbers=[]\n",
        "count=0\n",
        "for number in numbers:\n",
        "  if number not in unique_numbers:\n",
        "    unique_numbers.append(number)\n",
        "    count +=1\n",
        "doublicated_count=len(numbers)-count\n",
        "\n",
        "doublicate_message= f\" The new list is : {unique_numbers}\"\n",
        "print(doublicate_message)\n",
        "\n",
        "\n",
        "output_message= f\" The number of doublicated numbers is {doublicated_count}.\"\n",
        "print(output_message)\n",
        "\n"
      ]
    }
  ]
}