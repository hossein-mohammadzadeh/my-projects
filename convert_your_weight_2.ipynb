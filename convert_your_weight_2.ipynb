{
  "nbformat": 4,
  "nbformat_minor": 0,
  "metadata": {
    "colab": {
      "provenance": []
    },
    "kernelspec": {
      "name": "python3",
      "display_name": "Python 3"
    },
    "language_info": {
      "name": "python"
    }
  },
  "cells": [
    {
      "cell_type": "code",
      "execution_count": 21,
      "metadata": {
        "colab": {
          "base_uri": "https://localhost:8080/"
        },
        "id": "L7DllpmkInNI",
        "outputId": "4b67d818-3449-48f8-a363-9743a0b8da06"
      },
      "outputs": [
        {
          "output_type": "stream",
          "name": "stdout",
          "text": [
            "These codes are to convert your weight between pounds and kilogram.\n",
            "\n",
            "Enter your weight: 180\n",
            "Enter the unit of the weight (lbs or kg):lBs\n",
            "\n",
            "Your weight is 180 in (lbs).\n",
            "\n",
            "The weight in Kg is 81.0 (Kg).\n"
          ]
        }
      ],
      "source": [
        "print(\"These codes are to convert your weight between pounds and kilogram.\\n\")\n",
        "\n",
        "import math\n",
        "weight= int(input(\"Enter your weight: \"))\n",
        "unit=input(\"Enter the unit of the weight (lbs or kg):\")\n",
        "unit_upper=unit.upper()\n",
        "unit_lower=unit.lower()\n",
        "print(f\"\\nYour weight is {weight} in ({unit_lower}).\\n\")\n",
        "\n",
        "if unit_upper=='KG':\n",
        "  weight_pound=weight*2.20\n",
        "  print(f\"The weight in pounds equals {weight_pound} (lbs).\")\n",
        "\n",
        "elif unit_upper=='LBS':\n",
        "  weight_Kg=weight*0.45\n",
        "  print(f\"The weight in Kg is {weight_Kg} (Kg).\")\n",
        "\n",
        "else:\n",
        "  print(\"Wrong unit!!\")\n",
        "\n",
        "\n",
        "\n"
      ]
    }
  ]
}