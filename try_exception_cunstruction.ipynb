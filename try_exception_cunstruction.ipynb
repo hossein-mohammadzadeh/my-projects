{
  "nbformat": 4,
  "nbformat_minor": 0,
  "metadata": {
    "colab": {
      "provenance": []
    },
    "kernelspec": {
      "name": "python3",
      "display_name": "Python 3"
    },
    "language_info": {
      "name": "python"
    }
  },
  "cells": [
    {
      "cell_type": "code",
      "execution_count": 20,
      "metadata": {
        "colab": {
          "base_uri": "https://localhost:8080/"
        },
        "id": "tiaPrAyfjARo",
        "outputId": "b84ec7a0-d58f-432d-b674-3a5cc41933d1"
      },
      "outputs": [
        {
          "name": "stdout",
          "output_type": "stream",
          "text": [
            "enter the age: 20\n",
            "Enter the income: 20\n",
            "1.0\n",
            "do you want to rerun?Yes\n",
            "enter the age: jk\n",
            "\n",
            "invalid value\n",
            "\n",
            "do you want to rerun?yeS\n",
            "enter the age: jhg\n",
            "\n",
            "invalid value\n",
            "\n",
            "do you want to rerun?no\n"
          ]
        }
      ],
      "source": [
        "# These codes are to explain how to use try_exception_cunstruction\n",
        "rerun='YES'\n",
        "while rerun=='YES':\n",
        "  try:\n",
        "    age=int(input(\"enter the age: \"))\n",
        "    income=int(input(\"Enter the income: \"))\n",
        "    risk=income/age\n",
        "    print (risk)\n",
        "  except ZeroDivisionError:\n",
        "    print(\"\\nAge can not be zero\\n\")\n",
        "  except ValueError:\n",
        "    print(\"\\ninvalid value\\n\")\n",
        "  rerun=input(\"do you want to rerun?\").upper()"
      ]
    }
  ]
}