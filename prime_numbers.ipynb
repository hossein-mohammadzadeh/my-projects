{
  "nbformat": 4,
  "nbformat_minor": 0,
  "metadata": {
    "colab": {
      "provenance": []
    },
    "kernelspec": {
      "name": "python3",
      "display_name": "Python 3"
    },
    "language_info": {
      "name": "python"
    }
  },
  "cells": [
    {
      "cell_type": "code",
      "execution_count": 15,
      "metadata": {
        "colab": {
          "base_uri": "https://localhost:8080/"
        },
        "id": "WgNmR2mAO2uR",
        "outputId": "eadcad20-a143-444e-e933-fa5ff2d72526"
      },
      "outputs": [
        {
          "output_type": "stream",
          "name": "stdout",
          "text": [
            "Enter number: 20\n",
            "The prime numbers are as below:\n",
            " [2, 3, 5, 7, 11, 13, 17, 19]\n"
          ]
        }
      ],
      "source": [
        "# This is ti recognize the prime numbers before the entering number\n",
        "\n",
        "input_number= int(input(\"Enter number: \"))\n",
        "output=[]\n",
        "\n",
        "for number in range(1, input_number+1):\n",
        "\n",
        "\n",
        "  if number ==1:\n",
        "    continue\n",
        "\n",
        "  is_prime= True\n",
        "\n",
        "  for index in range(2, number):\n",
        "    remnant=number % index\n",
        "    if remnant ==0:\n",
        "      is_prime= False\n",
        "      break\n",
        "  if is_prime:\n",
        "    output.append(number)\n",
        "\n",
        "print(\"The prime numbers are as below:\\n\", output)\n"
      ]
    }
  ]
}