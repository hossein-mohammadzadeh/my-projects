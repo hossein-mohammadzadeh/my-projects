{
  "nbformat": 4,
  "nbformat_minor": 0,
  "metadata": {
    "colab": {
      "provenance": []
    },
    "kernelspec": {
      "name": "python3",
      "display_name": "Python 3"
    },
    "language_info": {
      "name": "python"
    }
  },
  "cells": [
    {
      "cell_type": "code",
      "execution_count": 75,
      "metadata": {
        "colab": {
          "base_uri": "https://localhost:8080/"
        },
        "id": "_ND_ZrnpUzU8",
        "outputId": "5bffe297-cd2c-44eb-a64d-0fa0b4df587f"
      },
      "outputs": [
        {
          "output_type": "stream",
          "name": "stdout",
          "text": [
            "Enter your number: 0129\n",
            "  Zero One Two invalid\n"
          ]
        }
      ],
      "source": [
        "# This is to convert numbers to alphabet characters\n",
        "\n",
        "number_dictionary={\n",
        "    \"0\": \"Zero\",\n",
        "    \"1\": \"One\",\n",
        "    \"2\": \"Two\",\n",
        "    \"3\": \"Three\",\n",
        "    \"4\": \"Four\",\n",
        "    \"5\": \"Five\",\n",
        "    \"6\": \"Six\",\n",
        "    \"7\": \"Seven\",\n",
        "    \"8\": \"Eight\",\n",
        "    \"9\": \"Nine\",\n",
        "    \"Is_verified\":True\n",
        "}\n",
        "\n",
        "\n",
        "input_number=input(\"Enter your number: \")\n",
        "\n",
        "output_alphabetic_phone= \" \"\n",
        "\n",
        "for Digit in input_number:\n",
        "  output_alphabetic_phone += \" \" + number_dictionary.get(Digit, \"Invalid\")\n",
        "\n",
        "print(output_alphabetic_phone)\n",
        "\n",
        "\n",
        "\n"
      ]
    }
  ]
}