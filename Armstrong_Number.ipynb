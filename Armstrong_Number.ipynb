{
  "nbformat": 4,
  "nbformat_minor": 0,
  "metadata": {
    "colab": {
      "provenance": []
    },
    "kernelspec": {
      "name": "python3",
      "display_name": "Python 3"
    },
    "language_info": {
      "name": "python"
    }
  },
  "cells": [
    {
      "cell_type": "code",
      "execution_count": 46,
      "metadata": {
        "id": "2gJoECNJlbTp",
        "colab": {
          "base_uri": "https://localhost:8080/"
        },
        "outputId": "2e64fe1f-1e12-497c-e9c5-759c9ed6ef07"
      },
      "outputs": [
        {
          "output_type": "stream",
          "name": "stdout",
          "text": [
            "Enter the number: 153\n",
            "The summation of digits is 153\n",
            "As the summation of digits, 153,equals the number, 153, It's Armstrong Number.\n"
          ]
        }
      ],
      "source": [
        "# Python Program to Check Armstrong Number\n",
        "\n",
        "def digit_summation(number):\n",
        "  n=len(str(number))\n",
        "  number=int(number)\n",
        "  summation=0\n",
        "\n",
        "  for index in range (1,n+1):\n",
        "    digit=number % 10\n",
        "    summation += pow(digit,n)\n",
        "    number=number//10\n",
        "  return summation\n",
        "\n",
        "\n",
        "number=input(\"Enter the number: \")\n",
        "Digit_sum=digit_summation(number)\n",
        "print(\"The summation of digits is\", Digit_sum)\n",
        "\n",
        "if digit_summation(number)==int(number):\n",
        "  message= f\"As the summation of digits, {Digit_sum},equals the number, {number}, It's Armstrong Number.\"\n",
        "  print(message)\n",
        "else:\n",
        "  message= f\"As the summation of digits, {Digit_sum},does not equals the number, {number}, It's not Armstrong Number.\"\n",
        "  print(message)\n"
      ]
    }
  ]
}